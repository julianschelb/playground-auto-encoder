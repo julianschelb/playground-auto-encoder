{
 "cells": [
  {
   "cell_type": "markdown",
   "metadata": {
    "id": "XZctY0VSKVkj"
   },
   "source": [
    "# 3 Feature Encoding"
   ]
  },
  {
   "cell_type": "markdown",
   "metadata": {
    "id": "UmT69YgsKVkn"
   },
   "source": [
    "In this chapter we load the data, experiment with different model architectures and finally train the autoencoder model. "
   ]
  },
  {
   "cell_type": "markdown",
   "metadata": {
    "id": "y7OQ8M3RKVko"
   },
   "source": [
    "### Imports:"
   ]
  },
  {
   "cell_type": "code",
   "execution_count": null,
   "metadata": {
    "id": "bydvwRY7KVko",
    "tags": []
   },
   "outputs": [],
   "source": [
    "import keras\n",
    "from keras.models import load_model\n",
    "from keras.datasets import cifar10\n",
    "from keras.layers import Input, Flatten, Reshape, UpSampling2D, Dense, Conv1D, Conv2D, MaxPooling2D, GlobalMaxPooling2D, UpSampling2D, BatchNormalization, Activation\n",
    "from keras import layers\n",
    "from keras.models import Model\n",
    "from keras.callbacks import EarlyStopping, ModelCheckpoint\n",
    "from keras.optimizers import Adam\n",
    "from keras.callbacks import TensorBoard\n",
    "from matplotlib import pyplot as plt\n",
    "import tensorflow as tf\n",
    "import datetime\n",
    "import numpy as np\n",
    "import pandas as pd\n",
    "import seaborn as sns\n",
    "import pickle\n",
    "import visualkeras"
   ]
  },
  {
   "cell_type": "code",
   "execution_count": null,
   "metadata": {
    "id": "cMk_mPJiKVkp",
    "jupyter": {
     "source_hidden": true
    },
    "tags": []
   },
   "outputs": [],
   "source": [
    "# Load the TensorBoard notebook extension\n",
    "%load_ext tensorboard"
   ]
  },
  {
   "cell_type": "markdown",
   "metadata": {
    "id": "c_0ipwMCKVkq"
   },
   "source": [
    "## 3.3 Train Autoencoder"
   ]
  },
  {
   "cell_type": "markdown",
   "metadata": {
    "id": "pWhT6su4KVkr"
   },
   "source": [
    "### Load Data"
   ]
  },
  {
   "cell_type": "code",
   "execution_count": null,
   "metadata": {
    "id": "r_Iq-pShKVkr"
   },
   "outputs": [],
   "source": [
    "x_train = pickle.load(open( \"./data/x_train.p\", \"rb\" ))\n",
    "y_train = pickle.load(open( \"./data/y_train.p\", \"rb\" ))\n",
    "x_test  = pickle.load(open( \"./data/x_test.p\",  \"rb\" ))\n",
    "y_test  = pickle.load(open( \"./data/y_test.p\",  \"rb\" ))"
   ]
  },
  {
   "cell_type": "markdown",
   "metadata": {
    "id": "zTKGMd42KVks"
   },
   "source": [
    "#### Define Model"
   ]
  },
  {
   "cell_type": "code",
   "execution_count": 96,
   "metadata": {
    "id": "i3et2qYsKVks",
    "tags": []
   },
   "outputs": [],
   "source": [
    "##############################\n",
    "# Encoder\n",
    "##############################\n",
    "\n",
    "scale = 2\n",
    "\n",
    "input_img = Input(shape=(32, 32, 3))\n",
    "x = Conv2D(scale * 128, (3, 3), padding='same')(input_img)\n",
    "x = BatchNormalization()(x)\n",
    "x = Activation('relu')(x)\n",
    "x = MaxPooling2D((2, 2), padding='same')(x)\n",
    "x = Conv2D(scale * 64, (3, 3), padding='same')(x)\n",
    "x = BatchNormalization()(x)\n",
    "x = Activation('relu')(x)\n",
    "x = MaxPooling2D((2, 2), padding='same')(x)\n",
    "x = Conv2D(scale * 32, (3, 3), padding='same')(x)\n",
    "x = BatchNormalization()(x)\n",
    "x = Activation('relu')(x)\n",
    "x = MaxPooling2D((2, 2), padding='same')(x)\n",
    "x = Conv2D(scale * 16, (3, 3), padding='same')(x)\n",
    "x = BatchNormalization()(x)\n",
    "x = Activation('relu')(x)\n",
    "x = MaxPooling2D((2, 2), padding='same')(x)\n",
    "x = Flatten()(x)\n",
    "# with dense from 256 to 10\n",
    "encoded = Dense(10, activation='sigmoid')(x)\n",
    "\n",
    "##############################\n",
    "# Decoder\n",
    "##############################\n",
    "\n",
    "# with dense from 10 to 256\n",
    "x = Dense(64, activation='relu')(encoded)\n",
    "x = Reshape((2, 2, 16))(x)\n",
    "x = Conv2D(scale * 16, (3, 3), padding='same')(x)\n",
    "x = BatchNormalization()(x)\n",
    "x = Activation('relu')(x)\n",
    "x = UpSampling2D((2, 2))(x)\n",
    "x = Conv2D(scale * 32, (3, 3), padding='same')(x)\n",
    "x = BatchNormalization()(x)\n",
    "x = Activation('relu')(x)\n",
    "x = UpSampling2D((2, 2))(x)\n",
    "x = Conv2D(scale * 64, (2, 2), padding='same')(x)\n",
    "x = BatchNormalization()(x)\n",
    "x = Activation('relu')(x)\n",
    "x = UpSampling2D((2, 2))(x)\n",
    "x = Conv2D(scale * 128, (3, 3), padding='same')(x)\n",
    "x = BatchNormalization()(x)\n",
    "x = Activation('relu')(x)\n",
    "x = UpSampling2D((2, 2))(x)\n",
    "x = Conv2D(3, (3, 3), padding='same')(x)\n",
    "x = BatchNormalization()(x)\n",
    "decoded = Activation('sigmoid')(x)"
   ]
  },
  {
   "cell_type": "code",
   "execution_count": 97,
   "metadata": {
    "id": "g2f2jy2xKVkt",
    "tags": []
   },
   "outputs": [],
   "source": [
    "autoencoder = Model(input_img, decoded)\n",
    "encoder = keras.Model(input_img, encoded)\n",
    "autoencoder.compile(optimizer=Adam(learning_rate=0.0007), loss='mse')"
   ]
  },
  {
   "cell_type": "markdown",
   "metadata": {
    "id": "PCDn4EHxKVkt"
   },
   "source": [
    "![Autoencoder](./figures/autoencoder.png)"
   ]
  },
  {
   "cell_type": "markdown",
   "metadata": {
    "id": "7WlZdrrJKVku"
   },
   "source": [
    "#### Load pretrained models if available"
   ]
  },
  {
   "cell_type": "code",
   "execution_count": null,
   "metadata": {
    "id": "qCcyngZKKVku"
   },
   "outputs": [],
   "source": [
    "#model.load_weights(saveDir + \"AutoEncoder_Cifar10_Deep_weights_smallLatent_adjusted.03-0.57-0.57.hdf5\")"
   ]
  },
  {
   "cell_type": "markdown",
   "metadata": {
    "id": "jPqBC_4aKVku"
   },
   "source": [
    "#### Setup callbacks"
   ]
  },
  {
   "cell_type": "code",
   "execution_count": 98,
   "metadata": {
    "id": "nFIysuPDKVku",
    "tags": []
   },
   "outputs": [],
   "source": [
    "# callbacks for storing trained weights\n",
    "saveDir = \"./models/checkpoints/\"\n",
    "\n",
    "es_cb = EarlyStopping(monitor='val_loss', patience=10, verbose=1, mode='auto')\n",
    "chkpt = saveDir + 'AutoEncoder_Cifar10_Deep_weights_smallLatent_adjusted_10.{epoch:02d}-{loss:.2f}-{val_loss:.2f}.hdf5'\n",
    "cp_cb = ModelCheckpoint(filepath = chkpt, monitor='val_loss', verbose=1, save_best_only=True, mode='auto')\n",
    "\n",
    "log_dir = \"./logs/fit_conv_final/\" + datetime.datetime.now().strftime(\"%Y%m%d-%H%M%S\")\n",
    "tensorboard_callback = tf.keras.callbacks.TensorBoard(log_dir=log_dir, histogram_freq=1)"
   ]
  },
  {
   "cell_type": "code",
   "execution_count": 99,
   "metadata": {
    "colab": {
     "base_uri": "https://localhost:8080/"
    },
    "collapsed": true,
    "id": "4q9l6zcAKVkv",
    "jupyter": {
     "outputs_hidden": true
    },
    "outputId": "b7bcdae0-7d7f-4666-abf1-6a5e73715d8d",
    "tags": []
   },
   "outputs": [
    {
     "name": "stdout",
     "output_type": "stream",
     "text": [
      "Epoch 1/100\n",
      "1094/1094 [==============================] - 33s 20ms/step - loss: 0.0314 - val_loss: 0.0244\n",
      "\n",
      "Epoch 00001: val_loss improved from inf to 0.02438, saving model to ./models/checkpoints/AutoEncoder_Cifar10_Deep_weights_smallLatent_adjusted_10.01-0.03-0.02.hdf5\n",
      "Epoch 2/100\n",
      "1094/1094 [==============================] - 21s 19ms/step - loss: 0.0229 - val_loss: 0.0231\n",
      "\n",
      "Epoch 00002: val_loss improved from 0.02438 to 0.02312, saving model to ./models/checkpoints/AutoEncoder_Cifar10_Deep_weights_smallLatent_adjusted_10.02-0.02-0.02.hdf5\n",
      "Epoch 3/100\n",
      "1094/1094 [==============================] - 21s 19ms/step - loss: 0.0224 - val_loss: 0.0215\n",
      "\n",
      "Epoch 00003: val_loss improved from 0.02312 to 0.02150, saving model to ./models/checkpoints/AutoEncoder_Cifar10_Deep_weights_smallLatent_adjusted_10.03-0.02-0.02.hdf5\n",
      "Epoch 4/100\n",
      "1094/1094 [==============================] - 21s 19ms/step - loss: 0.0222 - val_loss: 0.0224\n",
      "\n",
      "Epoch 00004: val_loss did not improve from 0.02150\n",
      "Epoch 5/100\n",
      "1094/1094 [==============================] - 21s 19ms/step - loss: 0.0219 - val_loss: 0.0216\n",
      "\n",
      "Epoch 00005: val_loss did not improve from 0.02150\n",
      "Epoch 6/100\n",
      "1094/1094 [==============================] - 21s 19ms/step - loss: 0.0218 - val_loss: 0.0218\n",
      "\n",
      "Epoch 00006: val_loss did not improve from 0.02150\n",
      "Epoch 7/100\n",
      "1094/1094 [==============================] - 21s 19ms/step - loss: 0.0217 - val_loss: 0.0224\n",
      "\n",
      "Epoch 00007: val_loss did not improve from 0.02150\n",
      "Epoch 8/100\n",
      "1094/1094 [==============================] - 21s 19ms/step - loss: 0.0216 - val_loss: 0.0209\n",
      "\n",
      "Epoch 00008: val_loss improved from 0.02150 to 0.02091, saving model to ./models/checkpoints/AutoEncoder_Cifar10_Deep_weights_smallLatent_adjusted_10.08-0.02-0.02.hdf5\n",
      "Epoch 9/100\n",
      "1094/1094 [==============================] - 21s 19ms/step - loss: 0.0215 - val_loss: 0.0215\n",
      "\n",
      "Epoch 00009: val_loss did not improve from 0.02091\n",
      "Epoch 10/100\n",
      "1094/1094 [==============================] - 20s 19ms/step - loss: 0.0214 - val_loss: 0.0211\n",
      "\n",
      "Epoch 00010: val_loss did not improve from 0.02091\n",
      "Epoch 11/100\n",
      "1094/1094 [==============================] - 21s 19ms/step - loss: 0.0213 - val_loss: 0.0207\n",
      "\n",
      "Epoch 00011: val_loss improved from 0.02091 to 0.02073, saving model to ./models/checkpoints/AutoEncoder_Cifar10_Deep_weights_smallLatent_adjusted_10.11-0.02-0.02.hdf5\n",
      "Epoch 12/100\n",
      "1094/1094 [==============================] - 21s 19ms/step - loss: 0.0212 - val_loss: 0.0209\n",
      "\n",
      "Epoch 00012: val_loss did not improve from 0.02073\n",
      "Epoch 13/100\n",
      "1094/1094 [==============================] - 23s 21ms/step - loss: 0.0212 - val_loss: 0.0210\n",
      "\n",
      "Epoch 00013: val_loss did not improve from 0.02073\n",
      "Epoch 14/100\n",
      "1094/1094 [==============================] - 21s 19ms/step - loss: 0.0211 - val_loss: 0.0206\n",
      "\n",
      "Epoch 00014: val_loss improved from 0.02073 to 0.02062, saving model to ./models/checkpoints/AutoEncoder_Cifar10_Deep_weights_smallLatent_adjusted_10.14-0.02-0.02.hdf5\n",
      "Epoch 15/100\n",
      "1094/1094 [==============================] - 21s 19ms/step - loss: 0.0211 - val_loss: 0.0206\n",
      "\n",
      "Epoch 00015: val_loss did not improve from 0.02062\n",
      "Epoch 16/100\n",
      "1094/1094 [==============================] - 21s 19ms/step - loss: 0.0211 - val_loss: 0.0207\n",
      "\n",
      "Epoch 00016: val_loss did not improve from 0.02062\n",
      "Epoch 17/100\n",
      "1094/1094 [==============================] - 21s 19ms/step - loss: 0.0210 - val_loss: 0.0211\n",
      "\n",
      "Epoch 00017: val_loss did not improve from 0.02062\n",
      "Epoch 18/100\n",
      "1094/1094 [==============================] - 21s 19ms/step - loss: 0.0210 - val_loss: 0.0207\n",
      "\n",
      "Epoch 00018: val_loss did not improve from 0.02062\n",
      "Epoch 19/100\n",
      "1094/1094 [==============================] - 21s 19ms/step - loss: 0.0210 - val_loss: 0.0207\n",
      "\n",
      "Epoch 00019: val_loss did not improve from 0.02062\n",
      "Epoch 20/100\n",
      "1094/1094 [==============================] - 21s 19ms/step - loss: 0.0210 - val_loss: 0.0206\n",
      "\n",
      "Epoch 00020: val_loss improved from 0.02062 to 0.02057, saving model to ./models/checkpoints/AutoEncoder_Cifar10_Deep_weights_smallLatent_adjusted_10.20-0.02-0.02.hdf5\n",
      "Epoch 21/100\n",
      "1094/1094 [==============================] - 21s 19ms/step - loss: 0.0210 - val_loss: 0.0205\n",
      "\n",
      "Epoch 00021: val_loss improved from 0.02057 to 0.02050, saving model to ./models/checkpoints/AutoEncoder_Cifar10_Deep_weights_smallLatent_adjusted_10.21-0.02-0.02.hdf5\n",
      "Epoch 22/100\n",
      "1094/1094 [==============================] - 21s 19ms/step - loss: 0.0208 - val_loss: 0.0205\n",
      "\n",
      "Epoch 00022: val_loss did not improve from 0.02050\n",
      "Epoch 23/100\n",
      "1094/1094 [==============================] - 21s 19ms/step - loss: 0.0208 - val_loss: 0.0206\n",
      "\n",
      "Epoch 00023: val_loss did not improve from 0.02050\n",
      "Epoch 24/100\n",
      "1094/1094 [==============================] - 21s 19ms/step - loss: 0.0208 - val_loss: 0.0205\n",
      "\n",
      "Epoch 00024: val_loss improved from 0.02050 to 0.02046, saving model to ./models/checkpoints/AutoEncoder_Cifar10_Deep_weights_smallLatent_adjusted_10.24-0.02-0.02.hdf5\n",
      "Epoch 25/100\n",
      "1094/1094 [==============================] - 21s 19ms/step - loss: 0.0209 - val_loss: 0.0205\n",
      "\n",
      "Epoch 00025: val_loss did not improve from 0.02046\n",
      "Epoch 26/100\n",
      "1094/1094 [==============================] - 21s 19ms/step - loss: 0.0207 - val_loss: 0.0205\n",
      "\n",
      "Epoch 00026: val_loss improved from 0.02046 to 0.02046, saving model to ./models/checkpoints/AutoEncoder_Cifar10_Deep_weights_smallLatent_adjusted_10.26-0.02-0.02.hdf5\n",
      "Epoch 27/100\n",
      "1094/1094 [==============================] - 21s 19ms/step - loss: 0.0206 - val_loss: 0.0204\n",
      "\n",
      "Epoch 00027: val_loss improved from 0.02046 to 0.02041, saving model to ./models/checkpoints/AutoEncoder_Cifar10_Deep_weights_smallLatent_adjusted_10.27-0.02-0.02.hdf5\n",
      "Epoch 28/100\n",
      "1094/1094 [==============================] - 21s 19ms/step - loss: 0.0207 - val_loss: 0.0208\n",
      "\n",
      "Epoch 00028: val_loss did not improve from 0.02041\n",
      "Epoch 29/100\n",
      "1094/1094 [==============================] - 21s 19ms/step - loss: 0.0206 - val_loss: 0.0205\n",
      "\n",
      "Epoch 00029: val_loss did not improve from 0.02041\n",
      "Epoch 30/100\n",
      "1094/1094 [==============================] - 21s 19ms/step - loss: 0.0207 - val_loss: 0.0204\n",
      "\n",
      "Epoch 00030: val_loss did not improve from 0.02041\n",
      "Epoch 31/100\n",
      "1094/1094 [==============================] - 21s 19ms/step - loss: 0.0206 - val_loss: 0.0205\n",
      "\n",
      "Epoch 00031: val_loss did not improve from 0.02041\n",
      "Epoch 32/100\n",
      "1094/1094 [==============================] - 21s 19ms/step - loss: 0.0206 - val_loss: 0.0207\n",
      "\n",
      "Epoch 00032: val_loss did not improve from 0.02041\n",
      "Epoch 33/100\n",
      "1094/1094 [==============================] - 21s 19ms/step - loss: 0.0206 - val_loss: 0.0205\n",
      "\n",
      "Epoch 00033: val_loss did not improve from 0.02041\n",
      "Epoch 34/100\n",
      "1094/1094 [==============================] - 21s 19ms/step - loss: 0.0206 - val_loss: 0.0204\n",
      "\n",
      "Epoch 00034: val_loss improved from 0.02041 to 0.02038, saving model to ./models/checkpoints/AutoEncoder_Cifar10_Deep_weights_smallLatent_adjusted_10.34-0.02-0.02.hdf5\n",
      "Epoch 35/100\n",
      "1094/1094 [==============================] - 21s 19ms/step - loss: 0.0206 - val_loss: 0.0207\n",
      "\n",
      "Epoch 00035: val_loss did not improve from 0.02038\n",
      "Epoch 36/100\n",
      "1094/1094 [==============================] - 21s 19ms/step - loss: 0.0204 - val_loss: 0.0205\n",
      "\n",
      "Epoch 00036: val_loss did not improve from 0.02038\n",
      "Epoch 37/100\n",
      "1094/1094 [==============================] - 21s 19ms/step - loss: 0.0204 - val_loss: 0.0206\n",
      "\n",
      "Epoch 00037: val_loss did not improve from 0.02038\n",
      "Epoch 38/100\n",
      "1094/1094 [==============================] - 21s 19ms/step - loss: 0.0204 - val_loss: 0.0204\n",
      "\n",
      "Epoch 00038: val_loss did not improve from 0.02038\n",
      "Epoch 39/100\n",
      "1094/1094 [==============================] - 21s 19ms/step - loss: 0.0204 - val_loss: 0.0204\n",
      "\n",
      "Epoch 00039: val_loss did not improve from 0.02038\n",
      "Epoch 40/100\n",
      "1094/1094 [==============================] - 23s 21ms/step - loss: 0.0203 - val_loss: 0.0204\n",
      "\n",
      "Epoch 00040: val_loss did not improve from 0.02038\n",
      "Epoch 41/100\n",
      "1094/1094 [==============================] - 21s 19ms/step - loss: 0.0203 - val_loss: 0.0205\n",
      "\n",
      "Epoch 00041: val_loss did not improve from 0.02038\n",
      "Epoch 42/100\n",
      "1094/1094 [==============================] - 21s 19ms/step - loss: 0.0203 - val_loss: 0.0204\n",
      "\n",
      "Epoch 00042: val_loss did not improve from 0.02038\n",
      "Epoch 43/100\n",
      "1094/1094 [==============================] - 21s 19ms/step - loss: 0.0204 - val_loss: 0.0205\n",
      "\n",
      "Epoch 00043: val_loss did not improve from 0.02038\n",
      "Epoch 44/100\n",
      "1094/1094 [==============================] - 21s 19ms/step - loss: 0.0203 - val_loss: 0.0204\n",
      "\n",
      "Epoch 00044: val_loss did not improve from 0.02038\n",
      "Epoch 00044: early stopping\n"
     ]
    }
   ],
   "source": [
    "history = autoencoder.fit(x_train, x_train,\n",
    "                epochs=100,\n",
    "                batch_size=32,\n",
    "                verbose=1,\n",
    "                shuffle=True,\n",
    "                validation_split = 0.3,\n",
    "                callbacks=[es_cb, cp_cb, tensorboard_callback]\n",
    "               )"
   ]
  },
  {
   "cell_type": "markdown",
   "metadata": {
    "id": "y9XyAdJpKVkv"
   },
   "source": [
    "#### Evaluate Model"
   ]
  },
  {
   "cell_type": "code",
   "execution_count": 100,
   "metadata": {
    "colab": {
     "base_uri": "https://localhost:8080/",
     "height": 295
    },
    "id": "7zcb3eAeKVkw",
    "jupyter": {
     "source_hidden": true
    },
    "outputId": "43194172-10e4-4456-c922-8bc6b0f45fe3",
    "tags": []
   },
   "outputs": [
    {
     "data": {
      "image/png": "[encoded data removed]",
      "text/plain": [
       "<Figure size 576x288 with 1 Axes>"
      ]
     },
     "metadata": {
      "needs_background": "light",
      "tags": []
     },
     "output_type": "display_data"
    }
   ],
   "source": [
    "plt.figure(figsize=(8, 4))\n",
    "plt.plot(history.history['loss'])\n",
    "plt.plot(history.history['val_loss'])\n",
    "plt.title('model loss')\n",
    "plt.ylabel('loss')\n",
    "plt.xlabel('epoch')\n",
    "plt.legend(['train', 'val'], loc='upper left')\n",
    "plt.show()"
   ]
  },
  {
   "cell_type": "markdown",
   "metadata": {
    "id": "KC8ifuU8KVkw"
   },
   "source": [
    "#### Save Model"
   ]
  },
  {
   "cell_type": "code",
   "execution_count": 101,
   "metadata": {
    "colab": {
     "base_uri": "https://localhost:8080/"
    },
    "id": "gAUdPirfKVkw",
    "outputId": "b0286dcf-10b3-4aed-8ace-5bdaae1e868b",
    "tags": []
   },
   "outputs": [
    {
     "name": "stdout",
     "output_type": "stream",
     "text": [
      "WARNING:tensorflow:Compiled the loaded model, but the compiled metrics have yet to be built. `model.compile_metrics` will be empty until you train or evaluate the model.\n"
     ]
    }
   ],
   "source": [
    "autoencoder.save('models/autoencoder.hdf5')\n",
    "autoencoder.save_weights('models/autoencoder_weights.hdf5')\n",
    "encoder.save('models/encoder.hdf5')"
   ]
  }
 ],
 "metadata": {
  "accelerator": "GPU",
  "colab": {
   "collapsed_sections": [],
   "name": "3_3_Feature_Encoding_Train_Autoencoder.ipynb",
   "provenance": []
  },
  "kernelspec": {
   "display_name": "Python 3 (ipykernel)",
   "language": "python",
   "name": "python3"
  },
  "language_info": {
   "codemirror_mode": {
    "name": "ipython",
    "version": 3
   },
   "file_extension": ".py",
   "mimetype": "text/x-python",
   "name": "python",
   "nbconvert_exporter": "python",
   "pygments_lexer": "ipython3",
   "version": "3.8.5"
  }
 },
 "nbformat": 4,
 "nbformat_minor": 4
}
